{
 "cells": [
  {
   "cell_type": "code",
   "execution_count": 1,
   "id": "9fa79b81",
   "metadata": {},
   "outputs": [],
   "source": [
    "import numpy as np\n",
    "import pandas as pd\n",
    "import matplotlib as mpl\n",
    "import matplotlib.pyplot as plt\n",
    "import seaborn as sns\n",
    "import sys\n",
    "import requests\n",
    "import shutil\n",
    "import datetime\n",
    "from textwrap import wrap\n",
    "from mastodon import Mastodon"
   ]
  },
  {
   "cell_type": "code",
   "execution_count": 2,
   "id": "b963749d",
   "metadata": {},
   "outputs": [],
   "source": [
    "def retrieve_entry(pdb_id):\n",
    "    \n",
    "    '''\n",
    "    Given a PDB id (str), this function returns\n",
    "    an image of the PDB assembly.\n",
    "    '''\n",
    "    \n",
    "    url = 'https://cdn.rcsb.org/images/structures/' + pdb_id.lower() + '_assembly-1.jpeg'\n",
    "    filename = '../img/' + pdb_id.lower() + '.jpg'\n",
    "    \n",
    "    r = requests.get(url, stream = True)\n",
    "\n",
    "    if r.status_code == 200:\n",
    "        with open(filename,'wb') as f:\n",
    "            shutil.copyfileobj(r.raw, f)\n",
    "    else:\n",
    "        print(\"Image Couldn't be retrieved\")\n",
    "    \n",
    "    return filename"
   ]
  },
  {
   "cell_type": "code",
   "execution_count": 3,
   "id": "b0692603",
   "metadata": {},
   "outputs": [],
   "source": [
    "# load in gene2lit\n",
    "gene2lit = pd.read_csv('../data/pubtator_title_or_abstract_in_any_gene2pubmed_paper_no_reviews.csv')"
   ]
  },
  {
   "cell_type": "code",
   "execution_count": 4,
   "id": "57a46004",
   "metadata": {},
   "outputs": [],
   "source": [
    "# load in gene spreadsheet\n",
    "gene_info = pd.read_csv('../data/gene_info_221228.csv')"
   ]
  },
  {
   "cell_type": "code",
   "execution_count": 5,
   "id": "1d50caee",
   "metadata": {},
   "outputs": [],
   "source": [
    "# get unique genes from gene info, subtract previously posted genes\n",
    "genes = list((\n",
    "    set(np.unique(gene_info['gene_ncbi'])) - \n",
    "    set(pd.read_csv('../data/previous_genes.txt', header=None)[0].values)\n",
    "))"
   ]
  },
  {
   "cell_type": "code",
   "execution_count": 6,
   "id": "9b976ccf",
   "metadata": {},
   "outputs": [],
   "source": [
    "gene_otd = np.random.choice(genes)\n",
    "\n",
    "gene_slice = gene_info[gene_info['gene_ncbi'] == gene_otd]\n",
    "\n",
    "gene_symbol = gene_slice['symbol_ncbi'].values[0]\n",
    "gene_name = gene_slice['description'].values[0]\n",
    "gene_type = gene_slice['type_of_gene'].values[0]\n",
    "gene_locus = gene_slice['map_location'].values[0]\n",
    "dbxrefs = gene_slice['dbxrefs'].values[0]\n",
    "synonyms = gene_slice['synonyms'].values[0]\n",
    "\n",
    "pdb_id = gene_slice['pdb_id'].values[0]\n",
    "structure_title = gene_slice['structure_title'].values[0]\n",
    "\n",
    "has_pdb =  type(pdb_id) == str\n",
    "\n",
    "gene2lit_slice = gene2lit[gene2lit['gene_ncbi'] == gene_otd]\n",
    "\n",
    "has_pubs = len(gene2lit_slice) > 0\n",
    "\n",
    "groupby_year = gene2lit_slice.groupby('year').count().reindex(range(1950,2021)).fillna(0.0)['pubmed_id']"
   ]
  },
  {
   "cell_type": "code",
   "execution_count": 7,
   "id": "f33330f4",
   "metadata": {},
   "outputs": [
    {
     "data": {
      "image/png": "[encoded data removed]",
      "text/plain": [
       "<Figure size 504x288 with 2 Axes>"
      ]
     },
     "metadata": {
      "needs_background": "light"
     },
     "output_type": "display_data"
    }
   ],
   "source": [
    "fig, axes = plt.subplots(figsize=(7,4), nrows=1, ncols=2, gridspec_kw={'width_ratios':[1,1]})\n",
    "\n",
    "if has_pubs:\n",
    "    axes[0].bar(height=groupby_year, x=groupby_year.index, width=1)\n",
    "    min_year = gene2lit_slice['year'].min() - 2\n",
    "    min_year = np.min([min_year, 2009])\n",
    "    axes[0].set_xlim([min_year, 2021])\n",
    "    axes[0].tick_params(labelsize=14, axis='both', width=1.5)\n",
    "    axes[0].set_xlabel('year', fontsize=14)\n",
    "    axes[0].set_ylabel('number of articles\\nfeaturing gene', fontsize=14)\n",
    "\n",
    "    title_str = gene_symbol + ' (' + gene_name + ')'\n",
    "    title_str = '\\n'.join(wrap(title_str, width=28))\n",
    "    axes[0].set_title(title_str, x=0, y=1.05, ha='left', fontsize=14)\n",
    "\n",
    "    axes[0].spines['right'].set_visible(False)\n",
    "    axes[0].spines['top'].set_visible(False)\n",
    "    [axes[0].spines[i].set_linewidth(2) for i in axes[0].spines]\n",
    "else:\n",
    "    axes[0].axis(False)\n",
    "    except_str = 'No articles mentioning ' + gene_symbol + \\\n",
    "    ' (' + gene_name + ')'+ ' in title or abstract found.'\n",
    "    axes[0].text(s='\\n'.join(wrap(except_str, width=30)), y=0.5, x=0.5, \n",
    "                 ha='center', fontsize=14, va='center')\n",
    "\n",
    "\n",
    "if has_pdb:\n",
    "    filename = retrieve_entry(pdb_id)\n",
    "    img = mpl.image.imread(filename)\n",
    "    axes[1].imshow(img)\n",
    "    axes[1].axis(False)\n",
    "    title_str = pdb_id + ': ' + structure_title\n",
    "    axes[1].set_title('\\n'.join(wrap(title_str, width=28)), fontsize=14, va='bottom', ha='left', x=0, y=1.05)\n",
    "else:\n",
    "    axes[1].axis(False)\n",
    "    except_str = 'No experimental protein structure found in PDB'\n",
    "    if gene_type != 'protein-coding':\n",
    "        except_str = except_str + ' (gene is probably not protein-coding).'\n",
    "    else:\n",
    "        except_str = except_str + '.'\n",
    "    axes[1].text(s='\\n'.join(wrap(except_str, width=28)), y=0.5, x=0.5, \n",
    "                 ha='center', fontsize=14, va='center')\n",
    "\n",
    "# Signature\n",
    "today = datetime.date.today()\n",
    "today_str = today.strftime(\"%B %d, %Y\")\n",
    "fig.text(s='Gene of the Day\\n' + today_str + '\\n@gene_of_the_day@botsin.space', x=1,y=0, ha='right', va='bottom')\n",
    "\n",
    "fig.tight_layout()\n",
    "\n",
    "plt.savefig('../img/' + str(gene_otd) + '.png', dpi=200, bbox_inches='tight', facecolor='white', transparent=False)"
   ]
  },
  {
   "cell_type": "code",
   "execution_count": 8,
   "id": "c8c82767",
   "metadata": {},
   "outputs": [],
   "source": [
    "n_articles = len(gene2lit_slice)\n",
    "\n",
    "if n_articles == 1:\n",
    "    plural_str = ' features'\n",
    "else:\n",
    "    plural_str = 's feature'\n",
    "\n",
    "status_str = ''\n",
    "status_str += 'The gene of the day is ' + gene_symbol + ' (' + gene_name + ')!\\n'\n",
    "status_str += '{:,}'.format(n_articles) + \\\n",
    "' article' + plural_str + ' this gene in the title or abstract.\\n\\n'\n",
    "\n",
    "status_str += 'Entrez ID: ' + str(gene_otd) + '\\n'\n",
    "status_str += 'Locus: ' + gene_locus + '\\n'\n",
    "status_str += 'Type of gene: ' + gene_type + '\\n'\n",
    "status_str += 'Synonyms: ' + synonyms + '\\n'\n",
    "status_str += 'Other designations: ' + dbxrefs"
   ]
  },
  {
   "cell_type": "code",
   "execution_count": 9,
   "id": "1ef43d2e",
   "metadata": {},
   "outputs": [
    {
     "name": "stdout",
     "output_type": "stream",
     "text": [
      "The gene of the day is FBLIM1 (filamin binding LIM protein 1)!\n",
      "22 articles feature this gene in the title or abstract.\n",
      "\n",
      "Entrez ID: 54751\n",
      "Locus: 1p36.21\n",
      "Type of gene: protein-coding\n",
      "Synonyms: CAL|FBLP-1|FBLP1\n",
      "Other designations: MIM:607747|HGNC:HGNC:24686|Ensembl:ENSG00000162458|AllianceGenome:HGNC:24686\n"
     ]
    }
   ],
   "source": [
    "print(status_str)"
   ]
  },
  {
   "cell_type": "code",
   "execution_count": 10,
   "id": "389ab9d4",
   "metadata": {},
   "outputs": [],
   "source": [
    "# initialize mastodon\n",
    "mastodon = Mastodon(\n",
    "    access_token = '../token.secret',\n",
    "    api_base_url = 'https://botsin.space/'\n",
    ")"
   ]
  },
  {
   "cell_type": "code",
   "execution_count": 11,
   "id": "3a44a3cf",
   "metadata": {},
   "outputs": [],
   "source": [
    "# add media and post\n",
    "media = mastodon.media_post('../img/' + str(gene_otd) + '.png')\n",
    "status = mastodon.status_post(status_str, media_ids=media)"
   ]
  },
  {
   "cell_type": "code",
   "execution_count": 12,
   "id": "9caca059",
   "metadata": {},
   "outputs": [],
   "source": [
    "# write gene ID to previous genes\n",
    "f = open('../data/previous_genes.txt', 'a')\n",
    "f.write(str(gene_otd) + '\\n')\n",
    "f.close()"
   ]
  },
  {
   "cell_type": "code",
   "execution_count": 13,
   "id": "9d86b1ab",
   "metadata": {},
   "outputs": [
    {
     "name": "stdout",
     "output_type": "stream",
     "text": [
      "54751\n"
     ]
    }
   ],
   "source": [
    "print(gene_otd)"
   ]
  },
  {
   "cell_type": "code",
   "execution_count": null,
   "id": "d9c108db",
   "metadata": {},
   "outputs": [],
   "source": []
  }
 ],
 "metadata": {
  "kernelspec": {
   "display_name": "Python 3 (ipykernel)",
   "language": "python",
   "name": "python3"
  },
  "language_info": {
   "codemirror_mode": {
    "name": "ipython",
    "version": 3
   },
   "file_extension": ".py",
   "mimetype": "text/x-python",
   "name": "python",
   "nbconvert_exporter": "python",
   "pygments_lexer": "ipython3",
   "version": "3.9.12"
  }
 },
 "nbformat": 4,
 "nbformat_minor": 5
}
