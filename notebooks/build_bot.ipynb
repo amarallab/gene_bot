{
 "cells": [
  {
   "cell_type": "code",
   "execution_count": 1,
   "id": "9fa79b81",
   "metadata": {},
   "outputs": [],
   "source": [
    "import numpy as np\n",
    "import pandas as pd\n",
    "import matplotlib as mpl\n",
    "import matplotlib.pyplot as plt\n",
    "import seaborn as sns\n",
    "import sys\n",
    "import requests\n",
    "import shutil\n",
    "from textwrap import wrap"
   ]
  },
  {
   "cell_type": "code",
   "execution_count": 176,
   "id": "b963749d",
   "metadata": {},
   "outputs": [],
   "source": [
    "def retrieve_entry(pdb_id):\n",
    "\n",
    "    url = 'https://www.ebi.ac.uk/pdbe/static/entry/' + \\\n",
    "    pdb_id.lower() + \\\n",
    "    '_assembly_1_chain_front_image-800x800.png'\n",
    "\n",
    "    url = 'https://cdn.rcsb.org/images/structures/' + pdb_id.lower() + '_assembly-1.jpeg'\n",
    "    filename = '../img/' + pdb_id.lower() + '.jpg'\n",
    "\n",
    "    r = requests.get(url, stream = True)\n",
    "\n",
    "    if r.status_code == 200:\n",
    "        with open(filename,'wb') as f:\n",
    "            shutil.copyfileobj(r.raw, f)\n",
    "    else:\n",
    "        print('Image Couldn\\'t be retrieved')\n",
    "    \n",
    "    return filename"
   ]
  },
  {
   "cell_type": "code",
   "execution_count": 2,
   "id": "b0692603",
   "metadata": {},
   "outputs": [],
   "source": [
    "gene2lit = pd.read_csv('../data/pubtator_title_or_abstract_in_any_gene2pubmed_paper_no_reviews.csv')"
   ]
  },
  {
   "cell_type": "code",
   "execution_count": 3,
   "id": "57a46004",
   "metadata": {},
   "outputs": [],
   "source": [
    "gene_info = pd.read_csv('../data/gene_info_221228.csv')"
   ]
  },
  {
   "cell_type": "code",
   "execution_count": 9,
   "id": "1d50caee",
   "metadata": {},
   "outputs": [],
   "source": [
    "genes = np.unique(gene_info['gene_ncbi'])"
   ]
  },
  {
   "cell_type": "code",
   "execution_count": 238,
   "id": "068bcce2",
   "metadata": {},
   "outputs": [],
   "source": [
    "gene_otd = np.random.choice(genes)"
   ]
  },
  {
   "cell_type": "code",
   "execution_count": 239,
   "id": "e8d8ec52",
   "metadata": {},
   "outputs": [],
   "source": [
    "gene_slice = gene_info[gene_info['gene_ncbi'] == gene_otd]"
   ]
  },
  {
   "cell_type": "code",
   "execution_count": 240,
   "id": "df245620",
   "metadata": {},
   "outputs": [],
   "source": [
    "gene_symbol = gene_slice['symbol_ncbi'].values[0]\n",
    "gene_name = gene_slice['description'].values[0]\n",
    "gene_type = gene_slice['type_of_gene'].values[0]"
   ]
  },
  {
   "cell_type": "code",
   "execution_count": 241,
   "id": "f9ae88a4",
   "metadata": {},
   "outputs": [],
   "source": [
    "pdb_id = gene_slice['pdb_id'].values[0]\n",
    "structure_title = gene_slice['structure_title'].values[0]"
   ]
  },
  {
   "cell_type": "code",
   "execution_count": 242,
   "id": "59a365bc",
   "metadata": {},
   "outputs": [],
   "source": [
    "has_pdb =  type(pdb_id) == str"
   ]
  },
  {
   "cell_type": "code",
   "execution_count": 243,
   "id": "fc8fabae",
   "metadata": {},
   "outputs": [],
   "source": [
    "gene2lit_slice = gene2lit[gene2lit['gene_ncbi'] == gene_otd]"
   ]
  },
  {
   "cell_type": "code",
   "execution_count": 244,
   "id": "63e35959",
   "metadata": {},
   "outputs": [],
   "source": [
    "has_pubs = len(gene2lit_slice) > 0"
   ]
  },
  {
   "cell_type": "code",
   "execution_count": 245,
   "id": "4b770b87",
   "metadata": {},
   "outputs": [],
   "source": [
    "groupby_year = gene2lit_slice.groupby('year').count().reindex(range(1950,2021)).fillna(0.0)['pubmed_id']"
   ]
  },
  {
   "cell_type": "code",
   "execution_count": 246,
   "id": "1a362c52",
   "metadata": {},
   "outputs": [
    {
     "data": {
      "text/plain": [
       "(False, False)"
      ]
     },
     "execution_count": 246,
     "metadata": {},
     "output_type": "execute_result"
    }
   ],
   "source": [
    "has_pubs, has_pdb"
   ]
  },
  {
   "cell_type": "code",
   "execution_count": 249,
   "id": "f33330f4",
   "metadata": {},
   "outputs": [
    {
     "data": {
      "image/png": "[encoded data removed]",
      "text/plain": [
       "<Figure size 576x252 with 2 Axes>"
      ]
     },
     "metadata": {
      "needs_background": "light"
     },
     "output_type": "display_data"
    }
   ],
   "source": [
    "fig, axes = plt.subplots(figsize=(8,3.5), nrows=1, ncols=2, gridspec_kw={'width_ratios':[1,1]})\n",
    "\n",
    "if has_pubs:\n",
    "    axes[0].bar(height=groupby_year, x=groupby_year.index)\n",
    "    min_year = gene2lit_slice['year'].min() - 2\n",
    "    min_year = np.min([min_year, 2009])\n",
    "    axes[0].set_xlim([min_year, 2021])\n",
    "    axes[0].tick_params(labelsize=14, axis='both', width=1.5)\n",
    "    axes[0].set_xlabel('year', fontsize=14)\n",
    "    axes[0].set_ylabel('number of articles\\nfeaturing gene', fontsize=14)\n",
    "    axes[0].set_ylabel('number of articles\\nfeaturing gene', fontsize=14)\n",
    "\n",
    "    title_str = gene_symbol + ' (' + gene_name + ')'\n",
    "    title_str = '\\n'.join(wrap(title_str, width=30))\n",
    "    axes[0].set_title(title_str, x=0, y=1.05, ha='left', fontsize=14)\n",
    "\n",
    "    axes[0].spines['right'].set_visible(False)\n",
    "    axes[0].spines['top'].set_visible(False)\n",
    "    [axes[0].spines[i].set_linewidth(2) for i in axes[0].spines]\n",
    "else:\n",
    "    axes[0].axis(False)\n",
    "    except_str = 'No articles mentioning ' + gene_symbol + \\\n",
    "    ' (' + gene_name + ')'+ ' in title or abstract found.'\n",
    "    axes[0].text(s='\\n'.join(wrap(except_str, width=30)), y=0.5, x=0.5, \n",
    "                 ha='center', fontsize=14, va='center')\n",
    "\n",
    "\n",
    "if has_pdb:\n",
    "    filename = retrieve_entry(pdb_id)\n",
    "    img = mpl.image.imread(filename)\n",
    "    axes[1].imshow(img)\n",
    "    axes[1].axis(False)\n",
    "    title_str = pdb_id + ': ' + structure_title\n",
    "    axes[1].set_title('\\n'.join(wrap(title_str, width=30)), fontsize=14, va='bottom', ha='left', x=0, y=1.05)\n",
    "else:\n",
    "    axes[1].axis(False)\n",
    "    except_str = 'No experimental protein structure found in PDB'\n",
    "    if gene_type != 'protein-coding':\n",
    "        except_str = except_str + ' (gene is probably not protein-coding).'\n",
    "    else:\n",
    "        except_str = except_str + '.'\n",
    "    axes[1].text(s='\\n'.join(wrap(except_str, width=30)), y=0.5, x=0.5, \n",
    "                 ha='center', fontsize=14, va='center')\n",
    "\n",
    "# Signature\n",
    "today = datetime.date.today()\n",
    "today_str = today.strftime(\"%B %d, %Y\")\n",
    "fig.text(s='Gene of the Day\\n' + today_str + '\\n@gene_of_the_day@botsin.space', x=1,y=0, ha='right')\n",
    "\n",
    "plt.savefig('../img/' + str(gene_otd) + '.png', dpi=200, bbox_inches='tight', facecolor='white', transparent=False)"
   ]
  },
  {
   "cell_type": "code",
   "execution_count": 180,
   "id": "2037177c",
   "metadata": {},
   "outputs": [
    {
     "data": {
      "text/plain": [
       "protein-coding    80596\n",
       "pseudo             9164\n",
       "ncRNA              6435\n",
       "snoRNA              730\n",
       "other               368\n",
       "snRNA                83\n",
       "rRNA                 20\n",
       "scRNA                 4\n",
       "unknown               1\n",
       "Name: type_of_gene, dtype: int64"
      ]
     },
     "execution_count": 180,
     "metadata": {},
     "output_type": "execute_result"
    }
   ],
   "source": [
    "gene_info['type_of_gene'].value_counts()"
   ]
  },
  {
   "cell_type": "code",
   "execution_count": 25,
   "id": "a414dff0",
   "metadata": {},
   "outputs": [],
   "source": [
    "from mastodon import Mastodon"
   ]
  },
  {
   "cell_type": "code",
   "execution_count": 174,
   "id": "0003e76b",
   "metadata": {},
   "outputs": [],
   "source": [
    "mastodon = Mastodon(\n",
    "    access_token = '../token.secret',\n",
    "    api_base_url = 'https://botsin.space/'\n",
    ")"
   ]
  },
  {
   "cell_type": "code",
   "execution_count": 175,
   "id": "6d2a0ea3",
   "metadata": {},
   "outputs": [],
   "source": [
    "media = mastodon.media_post('../img/' + str(gene_otd) + '.png')\n",
    "status = mastodon.status_post(\"test: \" + str(gene_otd) + '\\nThis gene is PTPA.', media_ids=media)"
   ]
  },
  {
   "cell_type": "code",
   "execution_count": 49,
   "id": "d6d85833",
   "metadata": {},
   "outputs": [
    {
     "data": {
      "text/plain": [
       "gene_ncbi\n",
       "2            13\n",
       "9             2\n",
       "10            1\n",
       "12           24\n",
       "16            6\n",
       "             ..\n",
       "102800317     2\n",
       "104909134     4\n",
       "109703458     1\n",
       "110599564     1\n",
       "111188157     1\n",
       "Name: pdb_id, Length: 6345, dtype: int64"
      ]
     },
     "execution_count": 49,
     "metadata": {},
     "output_type": "execute_result"
    }
   ],
   "source": []
  },
  {
   "cell_type": "code",
   "execution_count": 91,
   "id": "f81addd6",
   "metadata": {},
   "outputs": [
    {
     "data": {
      "text/plain": [
       "'5PUA'"
      ]
     },
     "execution_count": 91,
     "metadata": {},
     "output_type": "execute_result"
    }
   ],
   "source": [
    "np.random.choice(gene_info['pdb_id'].dropna())"
   ]
  },
  {
   "cell_type": "code",
   "execution_count": 153,
   "id": "ba91062d",
   "metadata": {},
   "outputs": [],
   "source": [
    "import datetime"
   ]
  },
  {
   "cell_type": "code",
   "execution_count": 157,
   "id": "9272648c",
   "metadata": {},
   "outputs": [
    {
     "data": {
      "text/plain": [
       "'December 28, 2022'"
      ]
     },
     "execution_count": 157,
     "metadata": {},
     "output_type": "execute_result"
    }
   ],
   "source": [
    "today = datetime.date.today()\n",
    "today.strftime(\"%B %d, %Y\")"
   ]
  },
  {
   "cell_type": "code",
   "execution_count": 163,
   "id": "b94879d4",
   "metadata": {},
   "outputs": [],
   "source": [
    "gene_info['in_gene2lit'] = gene_info['gene_ncbi'].isin(gene2lit['gene_ncbi'])"
   ]
  },
  {
   "cell_type": "code",
   "execution_count": 166,
   "id": "0beb6690",
   "metadata": {},
   "outputs": [
    {
     "data": {
      "text/plain": [
       "52243"
      ]
     },
     "execution_count": 166,
     "metadata": {},
     "output_type": "execute_result"
    }
   ],
   "source": [
    "gene_info.dropna(subset=['pdb_id'])['in_gene2lit'].sum()"
   ]
  },
  {
   "cell_type": "code",
   "execution_count": 172,
   "id": "194d7cba",
   "metadata": {},
   "outputs": [
    {
     "data": {
      "text/plain": [
       "760          1010\n",
       "23476         492\n",
       "2147          440\n",
       "23621         435\n",
       "1017          434\n",
       "             ... \n",
       "57730           1\n",
       "6157            1\n",
       "6159            1\n",
       "6160            1\n",
       "115072896       1\n",
       "Name: gene_ncbi, Length: 16625, dtype: int64"
      ]
     },
     "execution_count": 172,
     "metadata": {},
     "output_type": "execute_result"
    }
   ],
   "source": [
    "gene_info[~gene_info['pdb_id'].isna() | gene_info['in_gene2lit']]['gene_ncbi'].value_counts()"
   ]
  },
  {
   "cell_type": "code",
   "execution_count": 173,
   "id": "72f9f65a",
   "metadata": {},
   "outputs": [
    {
     "data": {
      "text/plain": [
       "4987500"
      ]
     },
     "execution_count": 173,
     "metadata": {},
     "output_type": "execute_result"
    }
   ],
   "source": [
    "16625 * 300"
   ]
  },
  {
   "cell_type": "code",
   "execution_count": null,
   "id": "35af539e",
   "metadata": {},
   "outputs": [],
   "source": []
  }
 ],
 "metadata": {
  "kernelspec": {
   "display_name": "Python 3 (ipykernel)",
   "language": "python",
   "name": "python3"
  },
  "language_info": {
   "codemirror_mode": {
    "name": "ipython",
    "version": 3
   },
   "file_extension": ".py",
   "mimetype": "text/x-python",
   "name": "python",
   "nbconvert_exporter": "python",
   "pygments_lexer": "ipython3",
   "version": "3.9.12"
  }
 },
 "nbformat": 4,
 "nbformat_minor": 5
}
