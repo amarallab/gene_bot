{
 "cells": [
  {
   "cell_type": "code",
   "execution_count": 61,
   "id": "24aa9d55",
   "metadata": {},
   "outputs": [],
   "source": [
    "import numpy as np\n",
    "import pandas as pd\n",
    "import matplotlib as mpl\n",
    "import matplotlib.pyplot as plt\n",
    "import seaborn as sns\n",
    "import sys\n",
    "import requests\n",
    "import shutil\n",
    "import cv2"
   ]
  },
  {
   "cell_type": "code",
   "execution_count": 29,
   "id": "4aa9ccc8",
   "metadata": {},
   "outputs": [],
   "source": [
    "gene2lit = pd.read_csv('../data/pubtator_title_or_abstract_in_any_gene2pubmed_paper_no_reviews.csv')"
   ]
  },
  {
   "cell_type": "code",
   "execution_count": 9,
   "id": "5fa0c6cd",
   "metadata": {},
   "outputs": [],
   "source": [
    "gene_info = pd.read_csv('../data/gene_info_221228.csv')"
   ]
  },
  {
   "cell_type": "code",
   "execution_count": 13,
   "id": "8a29924b",
   "metadata": {},
   "outputs": [],
   "source": [
    "genes = np.unique(gene_info['gene_ncbi'])"
   ]
  },
  {
   "cell_type": "code",
   "execution_count": 46,
   "id": "4e9bf1dc",
   "metadata": {},
   "outputs": [],
   "source": [
    "gene_otd = np.random.choice(genes)"
   ]
  },
  {
   "cell_type": "code",
   "execution_count": 47,
   "id": "36c1efc7",
   "metadata": {},
   "outputs": [],
   "source": [
    "gene_slice = gene_info[gene_info['gene_ncbi'] == gene_otd]"
   ]
  },
  {
   "cell_type": "code",
   "execution_count": 55,
   "id": "375b157a",
   "metadata": {},
   "outputs": [
    {
     "data": {
      "text/plain": [
       "'1bf9'"
      ]
     },
     "execution_count": 55,
     "metadata": {},
     "output_type": "execute_result"
    }
   ],
   "source": [
    "gene_slice['pdb_id'].values[0].lower()"
   ]
  },
  {
   "cell_type": "code",
   "execution_count": 60,
   "id": "ce480d86",
   "metadata": {},
   "outputs": [],
   "source": [
    "url = 'https://www.ebi.ac.uk/pdbe/static/entry/' + \\\n",
    "gene_slice['pdb_id'].values[0].lower() + \\\n",
    "'_assembly_1_chain_front_image-800x800.png'\n",
    "filename = '../img/' + gene_slice['pdb_id'].values[0].lower() + '.png'\n",
    "\n",
    "r = requests.get(url, stream = True)\n",
    "\n",
    "if r.status_code == 200:\n",
    "    with open(filename,'wb') as f:\n",
    "        shutil.copyfileobj(r.raw, f)\n",
    "else:\n",
    "    print('Image Couldn\\'t be retrieved')"
   ]
  },
  {
   "cell_type": "code",
   "execution_count": 63,
   "id": "015fe4e0",
   "metadata": {},
   "outputs": [],
   "source": [
    "img = mpl.image.imread(filename)"
   ]
  },
  {
   "cell_type": "code",
   "execution_count": 44,
   "id": "8ad1ec45",
   "metadata": {},
   "outputs": [],
   "source": [
    "gene2lit_slice = gene2lit[gene2lit['gene_ncbi'] == gene_otd]"
   ]
  },
  {
   "cell_type": "code",
   "execution_count": 39,
   "id": "fc40d1a3",
   "metadata": {},
   "outputs": [],
   "source": [
    "groupby_year = gene2lit_slice.groupby('year').count().reindex(range(1970,2021)).fillna(0.0)['pubmed_id']"
   ]
  },
  {
   "cell_type": "code",
   "execution_count": 71,
   "id": "63b401c2",
   "metadata": {},
   "outputs": [
    {
     "data": {
      "text/plain": [
       "(-0.5, 799.5, 799.5, -0.5)"
      ]
     },
     "execution_count": 71,
     "metadata": {},
     "output_type": "execute_result"
    },
    {
     "data": {
      "image/png": "[encoded data removed]",
      "text/plain": [
       "<Figure size 576x288 with 2 Axes>"
      ]
     },
     "metadata": {
      "needs_background": "light"
     },
     "output_type": "display_data"
    }
   ],
   "source": [
    "fig, axes = plt.subplots(figsize=(8,4), nrows=1, ncols=2, gridspec_kw={'width_ratios':[1,1]})\n",
    "\n",
    "axes[1].imshow(img)\n",
    "axes[1].axis(False)"
   ]
  },
  {
   "cell_type": "code",
   "execution_count": null,
   "id": "a3795d16",
   "metadata": {},
   "outputs": [],
   "source": []
  }
 ],
 "metadata": {
  "kernelspec": {
   "display_name": "Python 3 (ipykernel)",
   "language": "python",
   "name": "python3"
  },
  "language_info": {
   "codemirror_mode": {
    "name": "ipython",
    "version": 3
   },
   "file_extension": ".py",
   "mimetype": "text/x-python",
   "name": "python",
   "nbconvert_exporter": "python",
   "pygments_lexer": "ipython3",
   "version": "3.9.12"
  }
 },
 "nbformat": 4,
 "nbformat_minor": 5
}
