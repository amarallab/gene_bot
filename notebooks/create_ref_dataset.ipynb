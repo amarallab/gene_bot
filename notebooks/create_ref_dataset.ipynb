{
 "cells": [
  {
   "cell_type": "code",
   "execution_count": 18,
   "id": "904dcc8b",
   "metadata": {},
   "outputs": [],
   "source": [
    "import numpy as np\n",
    "import pandas as pd\n",
    "import matplotlib as mpl\n",
    "import matplotlib.pyplot as plt\n",
    "import seaborn as sns\n",
    "import sys\n",
    "\n",
    "sys.path.append('./../../gustav/src')\n",
    "from gustav import ncbi, nih, nlm, ebi\n",
    "taxon = 9606"
   ]
  },
  {
   "cell_type": "code",
   "execution_count": 13,
   "id": "ce33de8f",
   "metadata": {},
   "outputs": [],
   "source": [
    "gene2lit = pd.read_parquet('../data/pubtator_title_or_abstract_in_any_gene2pubmed_paper_no_reviews.parquet')"
   ]
  },
  {
   "cell_type": "code",
   "execution_count": 68,
   "id": "917e2c90",
   "metadata": {},
   "outputs": [],
   "source": [
    "ml = ncbi.pubmed('main', columns=['pubmed_id', 'year'], filters={'pubmed_id':set(gene2lit['pubmed_id'])})"
   ]
  },
  {
   "cell_type": "code",
   "execution_count": 74,
   "id": "785becfb",
   "metadata": {},
   "outputs": [],
   "source": [
    "gene2lit = pd.merge(gene2lit, ml, how='left')"
   ]
  },
  {
   "cell_type": "code",
   "execution_count": 75,
   "id": "f4ed6e45",
   "metadata": {},
   "outputs": [],
   "source": [
    "gene2lit.to_csv('../data/pubtator_title_or_abstract_in_any_gene2pubmed_paper_no_reviews.csv', index=False)"
   ]
  },
  {
   "cell_type": "code",
   "execution_count": 14,
   "id": "cab0e763",
   "metadata": {},
   "outputs": [
    {
     "name": "stderr",
     "output_type": "stream",
     "text": [
      "C:\\Users\\richa\\Documents\\GitHub\\gene_bot\\notebooks\\./../../gustav/src\\gustav\\utils.py:52: FutureWarning: In a future version of pandas all arguments of DataFrame.drop except for the argument 'labels' will be keyword-only.\n",
      "  df_with_delimiter.drop(column, 1).reset_index(),\n",
      "C:\\Users\\richa\\Documents\\GitHub\\gene_bot\\notebooks\\./../../gustav/src\\gustav\\utils.py:63: FutureWarning: In a future version of pandas all arguments of DataFrame.drop except for the argument 'labels' will be keyword-only.\n",
      "  joined = joined.drop('helper_index', 1)\n"
     ]
    }
   ],
   "source": [
    "gene_info = ncbi.gene_info(taxon, mode='unambiguous_ensembl')"
   ]
  },
  {
   "cell_type": "code",
   "execution_count": 22,
   "id": "e2af5a6b",
   "metadata": {},
   "outputs": [],
   "source": [
    "uniprot = ebi.uniprot(dataset='uniprot_to_ncbi_gene', taxon_ncbi='vip')"
   ]
  },
  {
   "cell_type": "code",
   "execution_count": 26,
   "id": "ffd4af18",
   "metadata": {},
   "outputs": [],
   "source": [
    "gene_info = pd.merge(gene_info, uniprot, how='left')"
   ]
  },
  {
   "cell_type": "code",
   "execution_count": 58,
   "id": "680b4255",
   "metadata": {},
   "outputs": [],
   "source": [
    "df_list = []\n",
    "n_entries = 60428\n",
    "index_list = list(np.arange(0, n_entries, 2500)) + [n_entries]\n",
    "for ii in range(len(index_list)-1):\n",
    "    first_int = \"{:05d}\".format(index_list[ii]+1)\n",
    "    last_int = \"{:05d}\".format(index_list[ii+1])\n",
    "    filename = '../data/rcsb_pdb_custom_report_2d01832d49285ca19d69deec2ae5cbfe_'+first_int+'-' +last_int+'.csv'\n",
    "    df = pd.read_csv(filename, header=1)\n",
    "    df_list.append(df)\n",
    "pdb_df = pd.concat(df_list).reset_index(drop=True)\n",
    "pdb_df = pdb_df.dropna(subset=['PDB ID', 'Accession Code(s)'])\n",
    "pdb_df = pdb_df[['PDB ID', 'Accession Code(s)']]\n",
    "pdb_df.columns = ['pdb_id', 'protein_uniprot']"
   ]
  },
  {
   "cell_type": "code",
   "execution_count": 63,
   "id": "c44bfce2",
   "metadata": {},
   "outputs": [],
   "source": [
    "gene_info = pd.merge(gene_info, pdb_df, how='left')"
   ]
  },
  {
   "cell_type": "code",
   "execution_count": 65,
   "id": "a7f70e2f",
   "metadata": {},
   "outputs": [],
   "source": [
    "gene_info.to_csv('../data/gene_info_221228.csv', index=False)"
   ]
  },
  {
   "cell_type": "code",
   "execution_count": null,
   "id": "3d9e8384",
   "metadata": {},
   "outputs": [],
   "source": []
  }
 ],
 "metadata": {
  "kernelspec": {
   "display_name": "Python 3 (ipykernel)",
   "language": "python",
   "name": "python3"
  },
  "language_info": {
   "codemirror_mode": {
    "name": "ipython",
    "version": 3
   },
   "file_extension": ".py",
   "mimetype": "text/x-python",
   "name": "python",
   "nbconvert_exporter": "python",
   "pygments_lexer": "ipython3",
   "version": "3.9.12"
  }
 },
 "nbformat": 4,
 "nbformat_minor": 5
}
